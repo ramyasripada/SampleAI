{
  "nbformat": 4,
  "nbformat_minor": 0,
  "metadata": {
    "colab": {
      "provenance": []
    },
    "kernelspec": {
      "name": "python3",
      "display_name": "Python 3"
    },
    "language_info": {
      "name": "python"
    }
  },
  "cells": [
    {
      "cell_type": "code",
      "execution_count": null,
      "metadata": {
        "colab": {
          "base_uri": "https://localhost:8080/",
          "height": 608
        },
        "id": "KoSlnXzi3EKY",
        "outputId": "6794ee00-39ec-4c1e-fec7-2e0632fd051e"
      },
      "outputs": [
        {
          "output_type": "stream",
          "name": "stdout",
          "text": [
            "Epoch 1/5 - Loss: 1.0859\n",
            "Epoch 2/5 - Loss: 0.6225\n",
            "Epoch 3/5 - Loss: 0.3756\n",
            "Epoch 4/5 - Loss: 0.1386\n",
            "Epoch 5/5 - Loss: 0.0425\n"
          ]
        },
        {
          "output_type": "display_data",
          "data": {
            "text/plain": [
              "<Figure size 600x600 with 1 Axes>"
            ],
            "image/png": "[encoded data removed]"
          },
          "metadata": {}
        }
      ],
      "source": [
        "\n",
        "import torch\n",
        "import torch.nn as nn\n",
        "import torch.optim as optim\n",
        "from torch.utils.data import DataLoader, TensorDataset\n",
        "import pandas as pd\n",
        "import numpy as np\n",
        "import matplotlib.pyplot as plt\n",
        "\n",
        "# Load dataset\n",
        "df = pd.read_csv(\"/content/training_data_expanded_columns.csv\")\n",
        "X_data = df[[f\"cell_{i}\" for i in range(100)]].values\n",
        "y_data = df[\"Label_Direction_Index\"].values\n",
        "\n",
        "# Convert to tensors\n",
        "X_tensor = torch.tensor(X_data, dtype=torch.float32)\n",
        "y_tensor = torch.tensor(y_data, dtype=torch.long)\n",
        "\n",
        "# Create dataset and DataLoader\n",
        "dataset = TensorDataset(X_tensor, y_tensor)\n",
        "loader = DataLoader(dataset, batch_size=16, shuffle=True)\n",
        "\n",
        "# Define model\n",
        "class MLPAgent(nn.Module):\n",
        "    def __init__(self):\n",
        "        super().__init__()\n",
        "        self.net = nn.Sequential(\n",
        "            nn.Linear(100, 64),\n",
        "            nn.ReLU(),\n",
        "            nn.Linear(64, 32),\n",
        "            nn.ReLU(),\n",
        "            nn.Linear(32, 4)\n",
        "        )\n",
        "    def forward(self, x):\n",
        "        return self.net(x)\n",
        "\n",
        "# Initialize model, optimizer, loss\n",
        "model = MLPAgent()\n",
        "optimizer = optim.Adam(model.parameters(), lr=0.001)\n",
        "loss_fn = nn.CrossEntropyLoss()\n",
        "\n",
        "# Training loop\n",
        "EPOCHS = 5\n",
        "for epoch in range(EPOCHS):\n",
        "    total_loss = 0\n",
        "    for xb, yb in loader:\n",
        "        preds = model(xb)\n",
        "        loss = loss_fn(preds, yb)\n",
        "        optimizer.zero_grad()\n",
        "        loss.backward()\n",
        "        optimizer.step()\n",
        "        total_loss += loss.item()\n",
        "    print(f\"Epoch {epoch+1}/{EPOCHS} - Loss: {total_loss / len(loader):.4f}\")\n",
        "\n",
        "# Predict path step-by-step using the trained model\n",
        "def model_predict_path(model, grid, start, goal, max_steps=100):\n",
        "    path = [start]\n",
        "    current = start\n",
        "    for _ in range(max_steps):\n",
        "        state = np.copy(grid)\n",
        "        state[current] = 2\n",
        "        state[goal] = 3\n",
        "        input_tensor = torch.tensor(state.flatten(), dtype=torch.float32).unsqueeze(0)\n",
        "        with torch.no_grad():\n",
        "            logits = model(input_tensor)\n",
        "            move_idx = torch.argmax(logits).item()\n",
        "        dr, dc = [(-1, 0), (1, 0), (0, -1), (0, 1)][move_idx]\n",
        "        next_pos = (current[0] + dr, current[1] + dc)\n",
        "        if (0 <= next_pos[0] < 10 and 0 <= next_pos[1] < 10 and\n",
        "            grid[next_pos] != 1 and next_pos not in path):\n",
        "            path.append(next_pos)\n",
        "            current = next_pos\n",
        "            if current == goal:\n",
        "                break\n",
        "        else:\n",
        "            break\n",
        "    return path\n",
        "\n",
        "# Visualize the path on the grid\n",
        "def visualize_path_prediction(grid, path, title=\"Model-Predicted Path\"):\n",
        "    fig, ax = plt.subplots(figsize=(6, 6))\n",
        "    for r in range(10):\n",
        "        for c in range(10):\n",
        "            coord = (c, 9 - r)\n",
        "            if (r, c) == path[0]:\n",
        "                color = 'blue'\n",
        "            elif (r, c) == path[-1]:\n",
        "                color = 'green'\n",
        "            elif (r, c) in path:\n",
        "                color = 'yellow'\n",
        "            elif grid[r][c] == 1:\n",
        "                color = 'black'\n",
        "            else:\n",
        "                color = 'white'\n",
        "            rect = plt.Rectangle(coord, 1, 1, facecolor=color, edgecolor='gray')\n",
        "            ax.add_patch(rect)\n",
        "    ax.set_xlim(0, 10)\n",
        "    ax.set_ylim(0, 10)\n",
        "    ax.set_xticks([])\n",
        "    ax.set_yticks([])\n",
        "    ax.set_title(title)\n",
        "    ax.set_aspect('equal')\n",
        "    plt.show()\n",
        "\n",
        "# Run prediction on first training sample\n",
        "test_grid = X_tensor[0].view(10, 10).int().numpy()\n",
        "start = tuple(map(int, np.argwhere(test_grid == 2)[0]))\n",
        "goal = tuple(map(int, np.argwhere(test_grid == 3)[0]))\n",
        "\n",
        "predicted_path = model_predict_path(model, test_grid, start, goal)\n",
        "visualize_path_prediction(test_grid, predicted_path, title=\"Model-Predicted Path\")\n",
        "\n"
      ]
    }
  ]
}